{
 "cells": [
  {
   "cell_type": "code",
   "execution_count": 1,
   "metadata": {},
   "outputs": [],
   "source": [
    "import numpy as np\n",
    "import matplotlib.pyplot as plt\n",
    "import seaborn as sns; sns.set()\n",
    "import pandas as pd\n",
    "import scipy\n",
    "from scipy.optimize import curve_fit\n",
    "from scipy.interpolate import Rbf\n",
    "from scipy import integrate\n",
    "from scipy.interpolate import interp1d\n",
    "import io\n",
    "import nbinteract as nbi\n",
    "from ipywidgets import interact\n",
    "import scipy.ndimage as ndimage"
   ]
  },
  {
   "cell_type": "code",
   "execution_count": 2,
   "metadata": {},
   "outputs": [],
   "source": [
    "x_saved = pd.read_csv('C:/Users/kjerr/Documents/Plasma Research/LAPD He-H Plasma/Python Scripts/ProcessedData/11_4_20/x.txt',header=None)[0]\n",
    "xfit = np.array(x_saved.values) #cm\n",
    "\n",
    "t_saved = pd.read_csv('C:/Users/kjerr/Documents/Plasma Research/LAPD He-H Plasma/Python Scripts/ProcessedData/11_4_20/time.txt',header=None)[0]\n",
    "timeFit = np.array(t_saved.values) #ms\n",
    "\n",
    "ne_saved = pd.read_csv('C:/Users/kjerr/Documents/Plasma Research/LAPD He-H Plasma/Python Scripts/ProcessedData/11_4_20/ne.txt',header=None)[0]\n",
    "ne_fit = np.reshape(np.array(ne_saved),(len(timeFit),len(xfit))) #1/cc\n",
    "\n",
    "Te_saved = pd.read_csv('C:/Users/kjerr/Documents/Plasma Research/LAPD He-H Plasma/Python Scripts/ProcessedData/11_4_20/Te.txt',header=None)[0]\n",
    "Te_fit = np.reshape(np.array(Te_saved),(len(timeFit),len(xfit))) #eV\n",
    "\n",
    "Vp_saved = pd.read_csv('C:/Users/kjerr/Documents/Plasma Research/LAPD He-H Plasma/Python Scripts/ProcessedData/11_4_20/Vp.txt',header=None)[0]\n",
    "Vp_fit = np.reshape(np.array(Vp_saved),(len(timeFit),len(xfit))) #V\n",
    "\n",
    "GrRate_saved = pd.read_csv('C:/Users/kjerr/Documents/Plasma Research/LAPD He-H Plasma/Python Scripts/ProcessedData/11_4_20/GroundRate.txt',header=None)[0]\n",
    "Rate_fit = GrRate_saved #cm^3/s\n",
    "\n",
    "Tgrid_saved = pd.read_csv('C:/Users/kjerr/Documents/Plasma Research/LAPD He-H Plasma/Python Scripts/ProcessedData/11_4_20/T.txt',header=None)[0]\n",
    "T_grid = Tgrid_saved #eV"
   ]
  },
  {
   "cell_type": "code",
   "execution_count": 3,
   "metadata": {},
   "outputs": [
    {
     "name": "stdout",
     "output_type": "stream",
     "text": [
      "0.08504503475046216 6.54008334849657\n"
     ]
    },
    {
     "data": {
      "text/plain": [
       "[<matplotlib.lines.Line2D at 0x1aab2d2b888>]"
      ]
     },
     "execution_count": 3,
     "metadata": {},
     "output_type": "execute_result"
    },
    {
     "data": {
      "image/png": "[encoded data removed]",
      "text/plain": [
       "<Figure size 432x288 with 1 Axes>"
      ]
     },
     "metadata": {
      "needs_background": "light"
     },
     "output_type": "display_data"
    }
   ],
   "source": [
    "f_rate = interp1d(T_grid,Rate_fit)\n",
    "print(np.min(Te_fit),np.max(Te_fit))\n",
    "plt.plot(T_grid,Rate_fit,color='black')\n",
    "plt.plot(0.085,f_rate(0.085),marker='o',color='blue')"
   ]
  },
  {
   "cell_type": "code",
   "execution_count": 4,
   "metadata": {},
   "outputs": [],
   "source": [
    "t, x = timeFit-timeFit[0], xfit\n",
    "dx = np.abs(xfit[1]-xfit[0])/1.2\n",
    "dt = np.abs(timeFit[1]-timeFit[0])/1.2\n",
    "\n",
    "def xt_zw(x,t,v0):\n",
    "    z = t/1000+x/v0\n",
    "    w = t/1000-x/v0\n",
    "    return z,w\n",
    "\n",
    "def zw_xt(z,w,v0):\n",
    "    t = (w+z)*1000/2\n",
    "    x = (z-w)*np.abs(v0)/2\n",
    "    return x,t\n",
    "\n",
    "def S_p(z,w,v0):\n",
    "    x,t_ = zw_xt(z,w,v0)\n",
    "    timeBoo = np.logical_and(t_>t[0],t_<t[-1])\n",
    "    if timeBoo and np.abs(x)<np.max(xfit):\n",
    "        ix = np.isclose(x,xfit,atol=dx)\n",
    "        it = np.isclose(t_,t,atol=dt)\n",
    "        ne_dummy = ne_fit[it,ix]*1.9\n",
    "        Te_dummy = Te_fit[it,ix]\n",
    "        if len(ne_dummy)==1:\n",
    "            return ne_dummy*f_rate(Te_dummy) #1/s\n",
    "        elif len(ne_dummy)>1:\n",
    "            return np.mean(ne_dummy*f_rate(Te_dummy)) #1/s\n",
    "        else:\n",
    "            print('np error')\n",
    "            return np.nan\n",
    "    else:\n",
    "        return 0 #1/s\n",
    "    \n",
    "def S_beam(z,w,v0):\n",
    "    dummy = 0\n",
    "    x,t = zw_xt(z,w,v0)\n",
    "    if np.abs(x)<40:\n",
    "        dummy = S_LaB6(t)*(1-np.tanh((x-10)/0.5))/2 + S_BaO(t)*(1-np.tanh((x-28.5)/0.5))/2\n",
    "        return dummy #1/s\n",
    "    else:\n",
    "        return 0 #1/s\n",
    "\n",
    "def n0He_r(x,t,v0):\n",
    "    z,w =xt_zw(x,t,v0)\n",
    "    z_prime = np.linspace(-w,z,1000)\n",
    "    Sb = np.zeros(len(z_prime))\n",
    "    Sp = np.zeros(len(z_prime))\n",
    "    i=0\n",
    "    for z_p in z_prime:\n",
    "        #Sb[i] = S_beam(z_p,w,v0)\n",
    "        Sp[i] = S_p(z_p,w,v0)\n",
    "        i =i+1\n",
    "    ln_n0 = -np.trapz(Sp,z_prime)\n",
    "    n0 = np.exp(ln_n0)\n",
    "    return n0"
   ]
  },
  {
   "cell_type": "code",
   "execution_count": 5,
   "metadata": {},
   "outputs": [
    {
     "name": "stdout",
     "output_type": "stream",
     "text": [
      "130.21413731575012\n"
     ]
    }
   ],
   "source": [
    "v_th = 8e4 #cm/s\n",
    "v_dist = np.linspace(v_th/2,v_th,2) #cm/s\n",
    "n0He_r_arr = np.zeros((len(v_dist),len(t),len(x)))\n",
    "n0He_l_arr = np.zeros((len(v_dist),len(t),len(x)))\n",
    "\n",
    "import time\n",
    "start_time = time.time()\n",
    "for iv in range(len(v_dist)):\n",
    "    for ixt in range(len(t)):\n",
    "        for ix in range(len(x)):\n",
    "            n0He_r_arr[iv,ixt,ix] = n0He_r(x[ix],t[ixt],v_dist[iv])\n",
    "            n0He_l_arr[iv,ixt,99-ix] = n0He_r_arr[iv,ixt,ix]\n",
    "finish_time = time.time()\n",
    "dtime_code = finish_time-start_time\n",
    "code_time = dtime_code*len(v_dist)*len(t)*len(x)\n",
    "print(dtime_code)"
   ]
  },
  {
   "cell_type": "code",
   "execution_count": 6,
   "metadata": {},
   "outputs": [
    {
     "data": {
      "application/vnd.jupyter.widget-view+json": {
       "model_id": "1a5513d9a1f2411293bdd25e66d2cc2c",
       "version_major": 2,
       "version_minor": 0
      },
      "text/plain": [
       "interactive(children=(IntSlider(value=12, description='it', max=24), IntSlider(value=0, description='iv', max=…"
      ]
     },
     "metadata": {},
     "output_type": "display_data"
    }
   ],
   "source": [
    "nHe = 0.5713740222626758e12\n",
    "def f(it,iv):\n",
    "    fig, (ax1) = plt.subplots(figsize=(6, 4), ncols=1)\n",
    "    ax1.plot(xfit,nHe*n0He_r_arr[iv,it,:]/2,color='blue',label='Right Traveling $He^0$')\n",
    "    ax1.plot(xfit,nHe*n0He_l_arr[iv,it,:]/2,color='red',label='Left Traveling $He^0$')\n",
    "    ax1.plot(xfit,(nHe*n0He_r_arr[iv,it,:]+nHe*n0He_l_arr[iv,it,:])/2,color='black',label='Total $He^0$, time={}'.format(timeFit[it]))\n",
    "    ax1.set_ylabel('$n_0$[1/cc]')\n",
    "    ax1.set_xlabel('x [cm]')\n",
    "    ax1.legend()\n",
    "    ax1.set_ylim([0,nHe*1.5])\n",
    "    plt.show()\n",
    "interact(f,it=(0,24),iv=(0,1));"
   ]
  },
  {
   "cell_type": "code",
   "execution_count": 7,
   "metadata": {},
   "outputs": [],
   "source": [
    "nHe_test = (nHe*n0He_r_arr[1]+nHe*n0He_l_arr[1])/2"
   ]
  },
  {
   "cell_type": "code",
   "execution_count": 8,
   "metadata": {},
   "outputs": [],
   "source": [
    "def emis_monochromator(ne,Te,n0,T_He):\n",
    "    import sys\n",
    "    sys.path.append('../')\n",
    "    from colradpy import colradpy\n",
    "    import numpy as np\n",
    "    from scipy.special import gamma, factorial\n",
    "\n",
    "    fil = 'mom97_ls#he0.dat' #adf04 file\n",
    "    \n",
    "    if Te<1.1:\n",
    "        temperature_arr = np.repeat(1,2)\n",
    "    else:\n",
    "        temperature_arr = np.repeat(Te,2)\n",
    "    metastable_levels = np.array([0])   #metastable level, just ground chosen here\n",
    "    density_arr = np.repeat(ne,2)\n",
    "    He = colradpy(fil,metastable_levels,temperature_arr,density_arr,use_recombination=True,\n",
    "              use_recombination_three_body = True,use_ionization=True,suppliment_with_ecip=True)\n",
    "    He.solve_cr()\n",
    "\n",
    "    ############# PEC w/o opacity ###########\n",
    "\n",
    "    pec_ind668 = np.where( (He.data['processed']['wave_air'] >666 ) &\\\n",
    "                    (He.data['processed']['wave_air'] <669 ))[0]\n",
    "    PEC668 = 0\n",
    "    for ispex in pec_ind668:\n",
    "        PEC668 = He.data['processed']['pecs'][ispex,0,:,:].flatten()[0]+PEC668\n",
    "        \n",
    "    pec_ind706 = np.where( (He.data['processed']['wave_air'] >705 ) &\\\n",
    "                    (He.data['processed']['wave_air'] <707 ))[0]\n",
    "    PEC706= 0\n",
    "    for ispex in pec_ind706:\n",
    "        PEC706 = He.data['processed']['pecs'][ispex,0,:,:].flatten()[0]+PEC706\n",
    "\n",
    "\n",
    "    pec_ind728 = np.where( (He.data['processed']['wave_air'] >727 ) &\\\n",
    "                    (He.data['processed']['wave_air'] <729 ))[0]\n",
    "    \n",
    "    PEC728= 0\n",
    "    for ispex in pec_ind728:\n",
    "        PEC728 = He.data['processed']['pecs'][ispex,0,:,:].flatten()[0]+PEC728\n",
    "    \n",
    "    #R1 = PEC668/PEC728\n",
    "    #R2 = PEC728/PEC706\n",
    "    \n",
    "    n_frac = np.zeros(len(He.data['atomic']['energy'][1:]))\n",
    "    \n",
    "    n_frac=He.data['processed']['pop_lvl'][0,:,0,0,0]/\\\n",
    "                      np.sum(He.data['processed']['pop_lvl'][0,:,0,0,0])\n",
    "    \n",
    "    n_levels = n0*n_frac #cc\n",
    "    \n",
    "    \n",
    "     ############# Atomic Data for Helium 0+ #############\n",
    "    \n",
    "    gP1 = 3\n",
    "    gP3 = 5\n",
    "    gD1 = 5\n",
    "    gS3 = 3\n",
    "    gS1 = 1\n",
    "\n",
    "    A668 = 6.3705e7 #1/s\n",
    "    A706 = 1.5474e7 #1/s\n",
    "    A728 = 1.8299e7 #1/s\n",
    "    \n",
    "     ############## Opacity Calculation ############\n",
    "\n",
    "    # 3/2 kT = 1/2 m v^2\n",
    "    # (3kT/m)^0.5 = v (thermal velocity)\n",
    "    # T_i= 0.3 eV (Larson calculation)\n",
    "    mHe = 6.6464764e-27 #kg\n",
    "    # 1 eV = 1.60218e-19 J\n",
    "    kT_J = T_He*1.60218e-19\n",
    "    v = np.sqrt(3*kT_J/mHe)*100 #cm/s\n",
    "    #plasma radius r= 7cm\n",
    "\n",
    "    ########## 706 Tau ############\n",
    "    l0 = 706e-7 #cm\n",
    "    Tau706 = n_levels[2]*gS3/gP3*A706*l0**3/(8*np.pi**(3/2)*v) #1/cm\n",
    "\n",
    "    ########## 728 Tau ############\n",
    "    l0 = 728e-7 #cm\n",
    "    Tau728 = n_levels[3]*gS1/gP1*A728*l0**3/(8*np.pi**(3/2)*v) #1/cm\n",
    "    \n",
    "\n",
    "    ########## 668 Tau ############\n",
    "    l0 = 668e-7 #cm\n",
    "    Tau668 = n_levels[3]*gD1/gP1*A668*l0**3/(8*np.pi**(3/2)*v) #1/cm\n",
    "    \n",
    "    \n",
    "    emis668 = PEC668 #ph*cm^3/s\n",
    "    emis706 = PEC706 #ph*cm^3/s\n",
    "    emis728 = PEC728 #ph*cm^3/s\n",
    "    coef668 = 1239.8/668*1.6e-19 #J/ph\n",
    "    coef706 = 1239.8/706*1.6e-19 #J/ph\n",
    "    coef728 = 1239.8/728*1.6e-19 #J/ph\n",
    "    n_He_706_up = n_levels[4] #1/cm^3\n",
    "    n_He_728_up = n_levels[5] #1/cm^3\n",
    "    n_He_668_up = n_levels[7] #1/cm^3\n",
    "    \n",
    "    Br_668 = coef668*emis668*ne*n0 #W/cm^3\n",
    "    Br_706 = coef706*emis706*ne*n0 #W/cm^3\n",
    "    Br_728 = coef728*emis728*ne*n0 #W/cm^3\n",
    "    \n",
    "    return Br_668,Br_706,Br_728,Tau668,Tau706,Tau728,n_He_668_up,n_He_706_up,n_He_728_up"
   ]
  },
  {
   "cell_type": "code",
   "execution_count": 9,
   "metadata": {},
   "outputs": [
    {
     "name": "stderr",
     "output_type": "stream",
     "text": [
      "C:\\Users\\kjerr\\Anaconda3\\lib\\site-packages\\colradpy-1.1-py3.7.egg\\colradpy\\colradpy_class.py:1053: RuntimeWarning: divide by zero encountered in double_scalars\n"
     ]
    }
   ],
   "source": [
    "Line668= pd.read_csv(r'C:\\Users\\kjerr\\Documents\\Plasma Research\\LAPD He-H Plasma\\LAPD_data\\Line Ratios\\M1668nm-He00000.txt',sep=\",\", header=4)\n",
    "Line706= pd.read_csv(r'C:\\Users\\kjerr\\Documents\\Plasma Research\\LAPD He-H Plasma\\LAPD_data\\Line Ratios\\M1706nm-He00000.txt',sep=\",\", header=4)\n",
    "Line728=pd.read_csv(r'C:\\Users\\kjerr\\Documents\\Plasma Research\\LAPD He-H Plasma\\LAPD_data\\Line Ratios\\M1728nm-He00000.txt',sep=\",\", header=4)\n",
    "background=pd.read_csv(r'C:\\Users\\kjerr\\Documents\\Plasma Research\\LAPD He-H Plasma\\LAPD_data\\Line Ratios\\C1731-5nm-He00000.txt',sep=\",\", header=4)\n",
    "\n",
    "emis_668_v2 = np.zeros((len(timeFit),len(xfit)))\n",
    "emis_706_v2 = np.zeros((len(timeFit),len(xfit)))\n",
    "emis_728_v2 = np.zeros((len(timeFit),len(xfit)))\n",
    "tau_668_v2 = np.zeros((len(timeFit),len(xfit)))\n",
    "tau_706_v2 = np.zeros((len(timeFit),len(xfit)))\n",
    "tau_728_v2 = np.zeros((len(timeFit),len(xfit)))\n",
    "n_668_up_v2 = np.zeros((len(timeFit),len(xfit)))\n",
    "n_706_up_v2 = np.zeros((len(timeFit),len(xfit)))\n",
    "n_728_up_v2 = np.zeros((len(timeFit),len(xfit)))\n",
    "d = np.linspace(0,60,100) #cm\n",
    "for ix in range(len(xfit)):\n",
    "    for it in range(len(timeFit)):\n",
    "        emis_668_v2[it,ix],emis_706_v2[it,ix],emis_728_v2[it,ix],tau_668_v2[it,ix],tau_706_v2[it,ix],tau_728_v2[it,ix],n_668_up_v2[it,ix],n_706_up_v2[it,ix],n_728_up_v2[it,ix] = emis_monochromator(ne_fit[it,ix]*1.9,Te_fit[it,ix],nHe_test[it,ix],0.06)"
   ]
  },
  {
   "cell_type": "code",
   "execution_count": 10,
   "metadata": {},
   "outputs": [
    {
     "data": {
      "application/vnd.jupyter.widget-view+json": {
       "model_id": "4f022f075fc847a6b6f1a6b1c2d4cadd",
       "version_major": 2,
       "version_minor": 0
      },
      "text/plain": [
       "interactive(children=(IntSlider(value=12, description='it', max=24), IntSlider(value=1, description='iv', max=…"
      ]
     },
     "metadata": {},
     "output_type": "display_data"
    }
   ],
   "source": [
    "def f(it,iv):\n",
    "    fig, (ax1,ax2,ax3) = plt.subplots(figsize=(18, 4), ncols=3)\n",
    "    ax1.plot(xfit,1e6*emis_668_v2[it,:],color='blue',label='668 nm')\n",
    "    A_668 = np.exp(-integrate.cumtrapz(tau_668_v2[it,:],xfit,initial=0))\n",
    "    ax1.plot(xfit,A_668*1e6*emis_668_v2[it,:],color='blue',linestyle='--',label='Absorption Corrected')\n",
    "    \n",
    "    ax2.plot(xfit,1e6*emis_706_v2[it,:],color='red',label='706 nm')\n",
    "    A_706 = np.exp(-integrate.cumtrapz(tau_706_v2[it,:],xfit,initial=0))\n",
    "    ax2.plot(xfit,A_706*1e6*emis_706_v2[it,:],color='red',linestyle='--',label='Absorption Corrected')\n",
    "    \n",
    "    ax3.plot(xfit,1e6*emis_728_v2[it,:],color='orange',label='728 nm, time={} ms'.format(timeFit[it]))\n",
    "    A_728 = np.exp(-integrate.cumtrapz(tau_728_v2[it,:],xfit,initial=0))\n",
    "    ax3.plot(xfit,A_728*1e6*emis_728_v2[it,:],color='orange',linestyle='--',label='Absorption Corrected')\n",
    "    \n",
    "    ax1.set_ylabel(r'$\\epsilon$ [$\\mu$W/$cm^3$]')\n",
    "    ax1.set_xlabel('x [cm]')\n",
    "    ax1.set_ylim(1e-12,1e6*np.max(emis_668_v2))\n",
    "    ax2.set_xlabel('x [cm]')\n",
    "    ax2.set_ylim(1e-12,1e6*np.max(emis_706_v2))\n",
    "    ax3.set_xlabel('x [cm]')\n",
    "    ax3.set_ylim(1e-12,1e6*np.max(emis_728_v2))\n",
    "    #ax1.set_yscale('log')\n",
    "    #ax2.set_yscale('log')\n",
    "    #ax3.set_yscale('log')\n",
    "    ax1.legend()\n",
    "    ax2.legend()\n",
    "    ax3.legend()\n",
    "    plt.show()\n",
    "interact(f,it=(0,24),iv=(0,2));"
   ]
  },
  {
   "cell_type": "code",
   "execution_count": 11,
   "metadata": {},
   "outputs": [
    {
     "data": {
      "text/plain": [
       "<matplotlib.legend.Legend at 0x1aab4b90d48>"
      ]
     },
     "execution_count": 11,
     "metadata": {},
     "output_type": "execute_result"
    },
    {
     "data": {
      "image/png": "[encoded data removed]",
      "text/plain": [
       "<Figure size 432x288 with 1 Axes>"
      ]
     },
     "metadata": {
      "needs_background": "light"
     },
     "output_type": "display_data"
    }
   ],
   "source": [
    "for it in range(len(timeFit)):\n",
    "    lint668 = integrate.cumtrapz(emis_668_v2[it]*np.exp(-integrate.cumtrapz(tau_668_v2[it],d,initial=0)),xfit)[-1]\n",
    "    lint706 = integrate.cumtrapz(emis_706_v2[it]*np.exp(-integrate.cumtrapz(tau_706_v2[it],initial=0)),xfit)[-1]\n",
    "    lint728 = integrate.cumtrapz(emis_728_v2[it]*np.exp(-integrate.cumtrapz(tau_728_v2[it],initial=0)),xfit)[-1]\n",
    "    if it==0:\n",
    "        plt.plot(timeFit[it],lint668,color='blue',label='668 nm',marker='o')\n",
    "        plt.plot(timeFit[it],lint706,color='red',label='706 nm',marker='o')\n",
    "        plt.plot(timeFit[it],lint728,color='orange',label='728 nm',marker='o')\n",
    "    else:\n",
    "        plt.plot(timeFit[it],lint668,color='blue',marker='o')\n",
    "        plt.plot(timeFit[it],lint706,color='red',marker='o')\n",
    "        plt.plot(timeFit[it],lint728,color='orange',marker='o')\n",
    "#plt.yscale('log')\n",
    "plt.ylim(1e-7,0.8e-4)\n",
    "plt.ylabel('Line Intensity [A.U.]')\n",
    "plt.xlabel('time [ms]')\n",
    "plt.legend()"
   ]
  },
  {
   "cell_type": "code",
   "execution_count": null,
   "metadata": {},
   "outputs": [],
   "source": []
  }
 ],
 "metadata": {
  "kernelspec": {
   "display_name": "Python 3",
   "language": "python",
   "name": "python3"
  },
  "language_info": {
   "codemirror_mode": {
    "name": "ipython",
    "version": 3
   },
   "file_extension": ".py",
   "mimetype": "text/x-python",
   "name": "python",
   "nbconvert_exporter": "python",
   "pygments_lexer": "ipython3",
   "version": "3.9.7"
  },
  "vscode": {
   "interpreter": {
    "hash": "ca544eda2595385517d49fc632245f0ea6b0f437d8709f20f916e0b0cc00490c"
   }
  }
 },
 "nbformat": 4,
 "nbformat_minor": 2
}
